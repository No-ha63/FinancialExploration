{
 "cells": [
  {
   "cell_type": "markdown",
   "id": "1d1a43d7",
   "metadata": {},
   "source": []
  },
  {
   "cell_type": "code",
   "execution_count": 82,
   "id": "cf330a70",
   "metadata": {},
   "outputs": [],
   "source": [
    "import numpy as np\n",
    "import pandas as pd\n",
    "import datetime as dt\n",
    "import yfinance as yf\n",
    "from scipy.stats import norm"
   ]
  },
  {
   "cell_type": "markdown",
   "id": "70fb5058",
   "metadata": {},
   "source": [
    "https://home.treasury.gov/resource-center/data-chart-center/interest-rates/TextView?type=daily_treasury_yield_curve&field_tdr_date_value=2025"
   ]
  },
  {
   "cell_type": "code",
   "execution_count": 83,
   "id": "76a8b619",
   "metadata": {},
   "outputs": [],
   "source": [
    "month_1_rate = \t4.12/100\n",
    "compound_rate = np.log(1 + month_1_rate)\n",
    "total = 1 * 365"
   ]
  },
  {
   "cell_type": "code",
   "execution_count": 84,
   "id": "17a57961",
   "metadata": {},
   "outputs": [],
   "source": [
    "def GBM_risk_neutral(data,implied_volatility, num = 1000000, r = compound_rate, years = 1.0):\n",
    "    std = implied_volatility #annual\n",
    "    drift = r - (1/2) * std**2 #annual\n",
    "\n",
    "    results =  data['Close'][-1] * np.exp(np.random.normal(loc= drift * years, scale= std * np.sqrt(years), size = num))\n",
    "    return results\n",
    "\n",
    "def pricing(results, K, r = compound_rate, years = 1.0, mode = 'call'):\n",
    "    if mode == 'call':\n",
    "        all_end = np.maximum(results - K, 0)\n",
    "        call_payoff = np.mean(all_end)\n",
    "        return np.exp(-r * years) * call_payoff\n",
    "    elif mode == 'put':\n",
    "        all_end = np.maximum(K - results, 0)\n",
    "        put_payoff = np.mean(all_end)\n",
    "        return np.exp(-r * years) * put_payoff\n",
    "    else:\n",
    "        print(\"Mode must be 'call' or 'put'\")\n",
    "\n",
    "def black_scholes(last_close, sigma, K, r = compound_rate, years = 1.0, mode = 'call'):\n",
    "    if mode == 'call':\n",
    "        d1 = (np.log(last_close/K) + (r + (1/2) * sigma **2) * years) / sigma * np.sqrt(years) \n",
    "        d2 = d1 - sigma * np.sqrt(years)\n",
    "        call_price = last_close * norm.cdf(d1) - norm.cdf(d2) * K * np.exp(-r * years)\n",
    "        return call_price\n",
    "    else:\n",
    "        d1 = (np.log(last_close/K) + (r + (1/2) * sigma **2) * years) / sigma * np.sqrt(years)\n",
    "        d2 = d1 - sigma * np.sqrt(years)\n",
    "        put_price = norm.cdf(-d2) * K * np.exp(-r * years) - norm.cdf(-d1) * last_close\n",
    "    return put_price"
   ]
  },
  {
   "cell_type": "code",
   "execution_count": 85,
   "id": "1d04720d",
   "metadata": {},
   "outputs": [],
   "source": [
    "ticker = input(\"What stock would you like to predict ->\").upper()\n",
    "stock = yf.Ticker(ticker)\n",
    "date_start = dt.date.today() - dt.timedelta(days = total)\n",
    "data = stock.history(start = date_start)\n",
    "data = data.drop(columns=['Volume','Dividends','Stock Splits'])\n",
    "\n",
    "data[\"Percent Change\"] = data[\"Close\"].pct_change() \n",
    "data[\"Log Change\"] = np.log(data['Percent Change'] + 1) #normal dist\n",
    "\n",
    "target = dt.date.today() + dt.timedelta(days= 30)\n",
    "closest_date = stock.options[np.argmin(np.abs(np.array(stock.options,dtype='datetime64[D]').astype(dt.datetime) - target))]\n",
    "options_data = stock.option_chain(closest_date) #options from the earliest expiration\n",
    "\n",
    "calls = options_data.calls.copy()\n",
    "puts = options_data.puts.copy()"
   ]
  },
  {
   "cell_type": "code",
   "execution_count": 86,
   "id": "c7a523ec",
   "metadata": {},
   "outputs": [],
   "source": [
    "last_close = data['Close'][-1]\n",
    "\n",
    "closest_call = calls['strike'].iloc[np.argmin(np.abs(calls['strike'] - last_close))]\n",
    "closest_call_implied = calls['impliedVolatility'].iloc[np.argmin(np.abs(calls['strike'] - last_close))]\n",
    "closest_call_price = calls['lastPrice'].iloc[np.argmin(np.abs(calls['strike'] - last_close))]\n",
    "\n",
    "closest_put = puts['strike'].iloc[np.argmin(np.abs(puts['strike'] - last_close))]\n",
    "closest_put_implied = puts['impliedVolatility'].iloc[np.argmin(np.abs(puts['strike'] - last_close))]\n",
    "closest_put_price = puts['lastPrice'].iloc[np.argmin(np.abs(puts['strike'] - last_close))]\n",
    "\n",
    "trade_years = (np.asarray(closest_date,dtype='datetime64[D]').astype(dt.datetime) - data.index[-1].date()) / dt.timedelta(365)"
   ]
  },
  {
   "cell_type": "markdown",
   "id": "1c52fc9b",
   "metadata": {},
   "source": []
  },
  {
   "cell_type": "code",
   "execution_count": 87,
   "id": "df93b557",
   "metadata": {},
   "outputs": [],
   "source": [
    "sim_call_implied = GBM_risk_neutral(data, years = trade_years, implied_volatility = closest_call_implied)\n",
    "sim_put_implied = GBM_risk_neutral(data, years= trade_years, implied_volatility = closest_put_implied)\n",
    "\n",
    "MC_call_price = pricing(sim_call_implied, closest_call, compound_rate, trade_years, mode= 'call')\n",
    "MC_put_price = pricing(sim_put_implied, closest_put, compound_rate, trade_years, mode= 'put')\n",
    "BS_call_price = black_scholes(last_close,closest_call_implied, closest_call,compound_rate,trade_years,'call')\n",
    "BS_put_price = black_scholes(last_close,closest_put_implied, closest_put,compound_rate,trade_years,'put')"
   ]
  },
  {
   "cell_type": "code",
   "execution_count": 88,
   "id": "f2637fae",
   "metadata": {},
   "outputs": [
    {
     "name": "stdout",
     "output_type": "stream",
     "text": [
      "Call prices for GOOG on 2025-11-21 at rate 4.12, and strike 250.0:\n",
      "Monte Carlo: 13.96\n",
      "Black-Scholes: 13.88 \n",
      "\n",
      "Put prices for GOOG on 2025-11-21 at rate 4.12 and strike 250.0:\n",
      "Monte Carlo: 10.87\n",
      "Black-Scholes: 10.78\n",
      "\n",
      "Actual Prices on Yahoo Finance: Call - 13.4, Put - 11.1\n"
     ]
    }
   ],
   "source": [
    "print(f\"Call prices for {ticker} on {closest_date} at rate {month_1_rate * 100}, and strike {closest_call}:\")\n",
    "print(f\"Monte Carlo: {round(MC_call_price,2)}\")\n",
    "print(f'Black-Scholes: {round(BS_call_price,2)} ')\n",
    "\n",
    "print()\n",
    "print(f\"Put prices for {ticker} on {closest_date} at rate {month_1_rate * 100} and strike {closest_put}:\")\n",
    "print(f\"Monte Carlo: {round(MC_put_price,2)}\")\n",
    "print(f'Black-Scholes: {round(BS_put_price,2)}')\n",
    "\n",
    "print(f\"\\nActual Prices on Yahoo Finance: Call - {closest_call_price}, Put - {closest_put_price}\")"
   ]
  }
 ],
 "metadata": {
  "kernelspec": {
   "display_name": "base",
   "language": "python",
   "name": "python3"
  },
  "language_info": {
   "codemirror_mode": {
    "name": "ipython",
    "version": 3
   },
   "file_extension": ".py",
   "mimetype": "text/x-python",
   "name": "python",
   "nbconvert_exporter": "python",
   "pygments_lexer": "ipython3",
   "version": "3.9.24"
  }
 },
 "nbformat": 4,
 "nbformat_minor": 5
}
